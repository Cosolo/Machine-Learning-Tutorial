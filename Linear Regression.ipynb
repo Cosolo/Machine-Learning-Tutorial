{
 "cells": [
  {
   "cell_type": "markdown",
   "metadata": {},
   "source": [
    "## Linear Regression"
   ]
  },
  {
   "cell_type": "markdown",
   "metadata": {},
   "source": [
    "***Linear regression*** is a basic predictive analytics technique that uses historical data to predict an output variable.\n",
    "Linear regression models have many real-world applications in an array of industries such as economics (e.g. predicting growth), business (e.g. predicting product sales, employee performance), social science (e.g. predicting political leanings from gender or race), healthcare (e.g. predicting blood pressure levels from weight, disease onset from biological factors), and more.\n",
    "\n",
    "There are two kinds of variables in a linear regression model:\n",
    "\n",
    "The input or predictor variable is the variable(s) that help predict the value of the output variable. It is commonly referred to as X.\n",
    "The output variable is the variable that we want to predict. It is commonly referred to as Y.\n",
    "\n",
    "To estimate Y using linear regression, we assume the equation:\n",
    "\n",
    "**Yₑ = mX + c**\n",
    "\n",
    "where Yₑ is the estimated or predicted value of Y based on our linear equation.\n",
    "\n",
    "A linear function has one independent variable and one dependent variable. The independent variable is x and the dependent variable is y.\n",
    "\n",
    "- c is the constant term or the y intercept. It is the value of the dependent variable when x = 0.\n",
    "- m is the coefficient of the independent variable. It is also known as the slope and gives the rate of change of the dependent variable.\n",
    "\n",
    "Our goal is to find statistically significant values of the parameters m and c that minimise the difference between Y and Yₑ.\n",
    "\n",
    "If we are able to determine the optimum values of these two parameters, then we will have the line of best fit that we can use to predict the values of Y, given the value of X.\n",
    "\n",
    "Ordinary Least Squares\n",
    "The objective of the least squares method is to find values of a and b that minimise the sum of the squared difference between Y and Yₑ:\n",
    "\n",
    "![](img/LinearRegression/OLS.png)\n",
    "\n",
    "**Multiple Linear Regression**\n",
    "\n",
    "Linear suggests that the relationship between dependent and independent variable can be expressed in a straight line.\n",
    "\n",
    "The equation of the line is y = mx + c. One dimension is y-axis, another dimension is x-axis. It can be plotted in a two-dimensional plane.\n",
    "\n",
    "The generalization of this relationship can be expressed as:\n",
    "\n",
    "**y = f(x)**\n",
    "\n",
    "It means:\n",
    "\n",
    "*Define y as a function of x. i.e. define the dependent variable as a function of the independent variable.*\n",
    "\n",
    "What if the dependent variable needs to be expressed in terms of more than one independent variable? The generalized function becomes:\n",
    "\n",
    "**y = f(x, z)** i.e. express y as some function/combination of x and z.\n",
    "\n",
    "There are three dimensions now y-axis, x-axis and z-axis. It can be plotted as:\n",
    "\n",
    "![](img/LinearRegression/Multiple2.png)\n",
    "\n",
    "Now we have more than one dimension (x and z). We have an additional dimension. We want to express y as a combination of x and z.\n",
    "\n",
    "For a simple regression linear model a straight line expresses y as a function of x. Now we have an additional dimension (z). What will happen if an additional dimension is added to a line? It becomes a plane.\n",
    "\n",
    "![](img/LinearRegression/Multiple1.png)\n",
    "\n",
    "The plane is the function that expresses y as a function of x and z. Extrapolating the linear regression equation, it can now be expressed as:\n",
    "\n",
    "**y = m1.x + m2.z+ c**\n",
    "\n",
    "-  y is the dependent variable i.e. the variable that needs to be estimated and predicted.\n",
    "-  x is the first independent variable i.e. the variable that is controllable. It is the first input.\n",
    "-  m1 is the slope of x1. It determines what will be the angle of the line (x).\n",
    "-  z is the second independent variable i.e. the variable that is controllable. It is the second input.\n",
    "-  m2 is the slope of z. It determines what will be the angle of the line (z).\n",
    "-  c is the intercept. A constant that determines the value of y when x and z are 0.\n",
    "\n",
    "This is the genesis of the multivariate linear regression model. There are more than one input variables used to estimate the target. A model with two input variables can be expressed as:\n",
    "\n",
    "**y = β0 + β1.x1 + β2.x2**\n",
    "\n",
    "What if we had more variables as inputs? Human visualization capabilities are limited here. It can only visualize three dimensions. In machine learning world, there can be many dimensions. A multivariate regression model can be expressed as:\n",
    "\n",
    "**y = β0 + β1.x1 + β2.x2 +….. + βn.xn**\n",
    "\n",
    "***Great sources:***\n",
    "- https://towardsdatascience.com/data-science-simplified-part-5-multivariate-regression-models-7684b0489015\n",
    "- https://towardsdatascience.com/introduction-to-linear-regression-in-python-c12a072bedf0\n",
    "- https://www.youtube.com/watch?v=2Sb1Gvo5si8&index=13&list=PLEiEAq2VkUULYYgj13YHUWmRePqiu8Ddy\n",
    "- https://scikit-learn.org/stable/modules/generated/sklearn.linear_model.LinearRegression.html"
   ]
  },
  {
   "cell_type": "markdown",
   "metadata": {},
   "source": [
    "### Example: Sallary Vs. Years of Work Experience"
   ]
  },
  {
   "cell_type": "markdown",
   "metadata": {},
   "source": [
    "Defining variables:\n",
    "X: the first column which contains Years Experience array\n",
    "y: the last column which contains Salary array"
   ]
  },
  {
   "cell_type": "code",
   "execution_count": 1,
   "metadata": {},
   "outputs": [],
   "source": [
    "import numpy as np\n",
    "import matplotlib.pyplot as plt\n",
    "import pandas as pd\n",
    "\n",
    "# Importing the dataset\n",
    "dataset = pd.read_csv('Data/salary.csv')\n",
    "X = dataset.iloc[:, :-1].values #get a copy of dataset exclude last column\n",
    "y = dataset.iloc[:, 1].values #get array of dataset in column 1st"
   ]
  },
  {
   "cell_type": "markdown",
   "metadata": {},
   "source": [
    "We will split our dataset (total 30 observations) into 2 sets: training set which used for training and test set which used for testing:"
   ]
  },
  {
   "cell_type": "code",
   "execution_count": 2,
   "metadata": {},
   "outputs": [],
   "source": [
    "# Splitting the dataset into the Training set and Test set\n",
    "from sklearn.model_selection import train_test_split \n",
    "X_train, X_test, y_train, y_test = train_test_split(X, y, test_size=1/3, random_state=0)"
   ]
  },
  {
   "cell_type": "markdown",
   "metadata": {},
   "source": [
    "**test_size=1/3:** we will split our dataset (30 observations) into 2 parts (training set, test set) and the ratio of test set compare to dataset is 1/3 (10 observations will be put into the test set. You can put it 1/2 to get 50% or 0.5, they are the same. We should not let the test set too big; if it’s too big, we will lack of data to train. Normally, we should pick around 5% to 30%.\n",
    "\n",
    "**train_size:** if we use the test_size already, the rest of data will automatically be assigned to train_size.\n",
    "\n",
    "**random_state:** this is the seed for the random number generator. We can put an instance of the RandomState class as well. If we leave it blank or 0, the RandomState instance used by np.random will be used instead."
   ]
  },
  {
   "cell_type": "code",
   "execution_count": 3,
   "metadata": {},
   "outputs": [
    {
     "data": {
      "text/plain": [
       "LinearRegression(copy_X=True, fit_intercept=True, n_jobs=1, normalize=False)"
      ]
     },
     "execution_count": 3,
     "metadata": {},
     "output_type": "execute_result"
    }
   ],
   "source": [
    "# Fitting Simple Linear Regression to the Training set\n",
    "from sklearn.linear_model import LinearRegression\n",
    "regressor = LinearRegression()\n",
    "regressor.fit(X_train, y_train)"
   ]
  },
  {
   "cell_type": "markdown",
   "metadata": {},
   "source": [
    "**regressor = LinearRegression():** our training model which will implement the Linear Regression.\n",
    "\n",
    "**regressor.fit:** in this line, we pass the X_train which contains value of Year Experience and y_train which contains values of particular Salary to form up the model. This is the training process."
   ]
  },
  {
   "cell_type": "code",
   "execution_count": 4,
   "metadata": {},
   "outputs": [
    {
     "data": {
      "image/png": "[encoded data removed]",
      "text/plain": [
       "<Figure size 432x288 with 1 Axes>"
      ]
     },
     "metadata": {},
     "output_type": "display_data"
    },
    {
     "data": {
      "image/png": "[encoded data removed]",
      "text/plain": [
       "<Figure size 432x288 with 1 Axes>"
      ]
     },
     "metadata": {},
     "output_type": "display_data"
    }
   ],
   "source": [
    "# Visualizing the Training set results\n",
    "viz_train = plt\n",
    "viz_train.scatter(X_train, y_train, color='red')\n",
    "viz_train.plot(X_train, regressor.predict(X_train), color='blue')\n",
    "viz_train.title('Salary VS Experience (Training set)')\n",
    "viz_train.xlabel('Year of Experience')\n",
    "viz_train.ylabel('Salary')\n",
    "viz_train.show()\n",
    "\n",
    "# Visualizing the Test set results\n",
    "viz_test = plt\n",
    "viz_test.scatter(X_test, y_test, color='red')\n",
    "viz_test.plot(X_train, regressor.predict(X_train), color='blue')\n",
    "viz_test.title('Salary VS Experience (Test set)')\n",
    "viz_test.xlabel('Year of Experience')\n",
    "viz_test.ylabel('Salary')\n",
    "viz_test.show()"
   ]
  },
  {
   "cell_type": "markdown",
   "metadata": {},
   "source": [
    "Comparing these two plots, we can see the blue lines are the same direction. Our model is good to use now."
   ]
  },
  {
   "cell_type": "code",
   "execution_count": 5,
   "metadata": {},
   "outputs": [
    {
     "name": "stdout",
     "output_type": "stream",
     "text": [
      "[73545.90445964]\n"
     ]
    }
   ],
   "source": [
    "# Predicting the result of 5 Years Experience\n",
    "y_pred = regressor.predict(5)\n",
    "\n",
    "print(y_pred)"
   ]
  },
  {
   "cell_type": "markdown",
   "metadata": {},
   "source": [
    "Our model suggests us that we can offer to an employee with 5 years of experience a sallary of $73.545,90!"
   ]
  },
  {
   "cell_type": "markdown",
   "metadata": {},
   "source": [
    "## Example: Fortune 1000 Companies"
   ]
  },
  {
   "cell_type": "code",
   "execution_count": 6,
   "metadata": {},
   "outputs": [],
   "source": [
    "import numpy as np\n",
    "import pandas as pd\n",
    "import matplotlib.pyplot as plt\n",
    "import seaborn as sns\n",
    "\n",
    "%matplotlib inline"
   ]
  },
  {
   "cell_type": "code",
   "execution_count": 7,
   "metadata": {},
   "outputs": [
    {
     "data": {
      "text/html": [
       "<div>\n",
       "<style scoped>\n",
       "    .dataframe tbody tr th:only-of-type {\n",
       "        vertical-align: middle;\n",
       "    }\n",
       "\n",
       "    .dataframe tbody tr th {\n",
       "        vertical-align: top;\n",
       "    }\n",
       "\n",
       "    .dataframe thead th {\n",
       "        text-align: right;\n",
       "    }\n",
       "</style>\n",
       "<table border=\"1\" class=\"dataframe\">\n",
       "  <thead>\n",
       "    <tr style=\"text-align: right;\">\n",
       "      <th></th>\n",
       "      <th>R&amp;D Spend</th>\n",
       "      <th>Administration</th>\n",
       "      <th>Marketing Spend</th>\n",
       "      <th>State</th>\n",
       "      <th>Profit</th>\n",
       "    </tr>\n",
       "  </thead>\n",
       "  <tbody>\n",
       "    <tr>\n",
       "      <th>0</th>\n",
       "      <td>165349.20</td>\n",
       "      <td>136897.80</td>\n",
       "      <td>471784.10</td>\n",
       "      <td>New York</td>\n",
       "      <td>192261.83</td>\n",
       "    </tr>\n",
       "    <tr>\n",
       "      <th>1</th>\n",
       "      <td>162597.70</td>\n",
       "      <td>151377.59</td>\n",
       "      <td>443898.53</td>\n",
       "      <td>California</td>\n",
       "      <td>191792.06</td>\n",
       "    </tr>\n",
       "    <tr>\n",
       "      <th>2</th>\n",
       "      <td>153441.51</td>\n",
       "      <td>101145.55</td>\n",
       "      <td>407934.54</td>\n",
       "      <td>Florida</td>\n",
       "      <td>191050.39</td>\n",
       "    </tr>\n",
       "    <tr>\n",
       "      <th>3</th>\n",
       "      <td>144372.41</td>\n",
       "      <td>118671.85</td>\n",
       "      <td>383199.62</td>\n",
       "      <td>New York</td>\n",
       "      <td>182901.99</td>\n",
       "    </tr>\n",
       "    <tr>\n",
       "      <th>4</th>\n",
       "      <td>142107.34</td>\n",
       "      <td>91391.77</td>\n",
       "      <td>366168.42</td>\n",
       "      <td>Florida</td>\n",
       "      <td>166187.94</td>\n",
       "    </tr>\n",
       "  </tbody>\n",
       "</table>\n",
       "</div>"
      ],
      "text/plain": [
       "   R&D Spend  Administration  Marketing Spend       State     Profit\n",
       "0  165349.20       136897.80        471784.10    New York  192261.83\n",
       "1  162597.70       151377.59        443898.53  California  191792.06\n",
       "2  153441.51       101145.55        407934.54     Florida  191050.39\n",
       "3  144372.41       118671.85        383199.62    New York  182901.99\n",
       "4  142107.34        91391.77        366168.42     Florida  166187.94"
      ]
     },
     "execution_count": 7,
     "metadata": {},
     "output_type": "execute_result"
    }
   ],
   "source": [
    "companies = pd.read_csv(\"Data/1000Companies.csv\")\n",
    "\n",
    "X = companies.iloc[:, :-1].values\n",
    "y = companies.iloc[:, 4].values\n",
    "\n",
    "companies.head()"
   ]
  },
  {
   "cell_type": "code",
   "execution_count": 8,
   "metadata": {},
   "outputs": [
    {
     "data": {
      "text/plain": [
       "<matplotlib.axes._subplots.AxesSubplot at 0x1ba7a897898>"
      ]
     },
     "execution_count": 8,
     "metadata": {},
     "output_type": "execute_result"
    },
    {
     "data": {
      "image/png": "[encoded data removed]",
      "text/plain": [
       "<Figure size 432x288 with 2 Axes>"
      ]
     },
     "metadata": {},
     "output_type": "display_data"
    }
   ],
   "source": [
    " # data visualization  - correlation matrix\n",
    "sns.heatmap(companies.corr())"
   ]
  },
  {
   "cell_type": "code",
   "execution_count": 9,
   "metadata": {},
   "outputs": [],
   "source": [
    "# Encoding categorical data\n",
    "       # the third column in the dataset is categorical\n",
    "       # linear regression does not know how to process categorical data\n",
    "       # we need to change values to numbers\n",
    "from sklearn.preprocessing import LabelEncoder, OneHotEncoder\n",
    "labelencoder = LabelEncoder()"
   ]
  },
  {
   "cell_type": "code",
   "execution_count": 10,
   "metadata": {},
   "outputs": [],
   "source": [
    "# this line changes categorical values to numbers\n",
    "X[:, 3] = labelencoder.fit_transform(X[:, 3])"
   ]
  },
  {
   "cell_type": "code",
   "execution_count": 11,
   "metadata": {},
   "outputs": [],
   "source": [
    " # One Hot Encoder\n",
    "       # makes binarization of integer categories\n",
    "       # creates a new column for every category\n",
    "           # puts 1 if is in category\n",
    "           # 0 if isn't\n",
    "onehotencoder = OneHotEncoder(categorical_features = [3])\n"
   ]
  },
  {
   "cell_type": "code",
   "execution_count": 12,
   "metadata": {},
   "outputs": [],
   "source": [
    " # preparates the data to be a row of numbers\n",
    "X = onehotencoder.fit_transform(X).toarray()"
   ]
  },
  {
   "cell_type": "code",
   "execution_count": 13,
   "metadata": {},
   "outputs": [],
   "source": [
    "# Avoiding dummy variable trap:\n",
    "X = X[:, 1:]"
   ]
  },
  {
   "cell_type": "code",
   "execution_count": 14,
   "metadata": {},
   "outputs": [],
   "source": [
    "# Splitting the data into train and test set\n",
    "from sklearn.model_selection import train_test_split\n",
    "X_train, X_test, y_train, y_test = train_test_split(X, y, test_size=0.2)"
   ]
  },
  {
   "cell_type": "code",
   "execution_count": 15,
   "metadata": {},
   "outputs": [
    {
     "data": {
      "text/plain": [
       "LinearRegression(copy_X=True, fit_intercept=True, n_jobs=1, normalize=False)"
      ]
     },
     "execution_count": 15,
     "metadata": {},
     "output_type": "execute_result"
    }
   ],
   "source": [
    "# Fitting Multiple Linear Regression Model to Training set:\n",
    "from sklearn.linear_model import LinearRegression\n",
    "model_fit = LinearRegression()\n",
    "model_fit.fit(X_train, y_train)"
   ]
  },
  {
   "cell_type": "code",
   "execution_count": 16,
   "metadata": {},
   "outputs": [],
   "source": [
    "# Making predictions\n",
    "y_pred = model_fit.predict(X_test)"
   ]
  },
  {
   "cell_type": "code",
   "execution_count": 17,
   "metadata": {},
   "outputs": [
    {
     "name": "stdout",
     "output_type": "stream",
     "text": [
      "[-8.60307041e+02  2.06997876e+02  5.70356608e-01  1.12931742e+00\n",
      "  6.64034102e-02]\n",
      "-80675.99624371964\n"
     ]
    }
   ],
   "source": [
    "# Calculating coefficients and the intercept\n",
    "print(model_fit.coef_)\n",
    "print(model_fit.intercept_)"
   ]
  },
  {
   "cell_type": "code",
   "execution_count": 18,
   "metadata": {},
   "outputs": [
    {
     "data": {
      "text/plain": [
       "0.9824628473540985"
      ]
     },
     "execution_count": 18,
     "metadata": {},
     "output_type": "execute_result"
    }
   ],
   "source": [
    "# Calculating the R squared value\n",
    "       # tells us how good the prediction is\n",
    "       # not a percentage, but should be above 0.9\n",
    "from sklearn.metrics import r2_score\n",
    "r2_score(y_test, y_pred)"
   ]
  },
  {
   "cell_type": "code",
   "execution_count": 19,
   "metadata": {},
   "outputs": [
    {
     "data": {
      "text/plain": [
       "<matplotlib.collections.PathCollection at 0x1ba7a94cfd0>"
      ]
     },
     "execution_count": 19,
     "metadata": {},
     "output_type": "execute_result"
    },
    {
     "data": {
      "image/png": "[encoded data removed]",
      "text/plain": [
       "<Figure size 432x288 with 1 Axes>"
      ]
     },
     "metadata": {},
     "output_type": "display_data"
    }
   ],
   "source": [
    "# Visualization\n",
    "plt.scatter(y_test,y_pred)"
   ]
  }
 ],
 "metadata": {
  "kernelspec": {
   "display_name": "Python 3",
   "language": "python",
   "name": "python3"
  },
  "language_info": {
   "codemirror_mode": {
    "name": "ipython",
    "version": 3
   },
   "file_extension": ".py",
   "mimetype": "text/x-python",
   "name": "python",
   "nbconvert_exporter": "python",
   "pygments_lexer": "ipython3",
   "version": "3.6.4"
  }
 },
 "nbformat": 4,
 "nbformat_minor": 2
}
